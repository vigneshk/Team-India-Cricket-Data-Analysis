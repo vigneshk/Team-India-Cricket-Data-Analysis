{
 "cells": [
  {
   "cell_type": "code",
   "execution_count": 1,
   "metadata": {},
   "outputs": [],
   "source": [
    "import pandas as pd\n",
    "import matplotlib.pyplot as plt"
   ]
  },
  {
   "cell_type": "code",
   "execution_count": 2,
   "metadata": {},
   "outputs": [],
   "source": [
    "df = pd.read_csv(\"Cricket_Dataset.csv\")\n"
   ]
  },
  {
   "cell_type": "markdown",
   "metadata": {},
   "source": [
    "# Dropping the Unnamed column since it is not required for analysis"
   ]
  },
  {
   "cell_type": "code",
   "execution_count": 3,
   "metadata": {},
   "outputs": [],
   "source": [
    "df.drop(\"Unnamed: 0\",axis = 1,inplace=True)\n"
   ]
  },
  {
   "cell_type": "code",
   "execution_count": 4,
   "metadata": {},
   "outputs": [
    {
     "data": {
      "text/plain": [
       "Index(['Scorecard', 'Team 1', 'Team 2', 'Margin', 'Ground', 'Match Date',\n",
       "       'Winner', 'Host_Country', 'Venue_Team1', 'Venue_Team2', 'Innings_Team1',\n",
       "       'Innings_Team2'],\n",
       "      dtype='object')"
      ]
     },
     "execution_count": 4,
     "metadata": {},
     "output_type": "execute_result"
    }
   ],
   "source": [
    "df.columns"
   ]
  },
  {
   "cell_type": "markdown",
   "metadata": {},
   "source": [
    "# Renaming column names wih spaces"
   ]
  },
  {
   "cell_type": "code",
   "execution_count": 5,
   "metadata": {},
   "outputs": [],
   "source": [
    "df.rename(columns={\"Team 1\":\"Team1\",\"Team 2\":\"Team2\"},inplace=True)"
   ]
  },
  {
   "cell_type": "code",
   "execution_count": 6,
   "metadata": {},
   "outputs": [
    {
     "data": {
      "text/plain": [
       "Index(['Scorecard', 'Team1', 'Team2', 'Margin', 'Ground', 'Match Date',\n",
       "       'Winner', 'Host_Country', 'Venue_Team1', 'Venue_Team2', 'Innings_Team1',\n",
       "       'Innings_Team2'],\n",
       "      dtype='object')"
      ]
     },
     "execution_count": 6,
     "metadata": {},
     "output_type": "execute_result"
    }
   ],
   "source": [
    "df.columns"
   ]
  },
  {
   "cell_type": "markdown",
   "metadata": {},
   "source": [
    "# Filtering records for Team India (rows where either Team1 or Team2 is India)"
   ]
  },
  {
   "cell_type": "code",
   "execution_count": 7,
   "metadata": {},
   "outputs": [
    {
     "name": "stdout",
     "output_type": "stream",
     "text": [
      "       Scorecard        Team1        Team2           Margin      Ground  \\\n",
      "0            NaN          NaN          NaN              NaN         NaN   \n",
      "1            NaN          NaN          NaN              NaN         NaN   \n",
      "2            NaN          NaN          NaN              NaN         NaN   \n",
      "3            NaN          NaN          NaN              NaN         NaN   \n",
      "4            NaN          NaN          NaN              NaN         NaN   \n",
      "5            NaN          NaN          NaN              NaN         NaN   \n",
      "6            NaN          NaN          NaN              NaN         NaN   \n",
      "7            NaN          NaN          NaN              NaN         NaN   \n",
      "8            NaN          NaN          NaN              NaN         NaN   \n",
      "9            NaN          NaN          NaN              NaN         NaN   \n",
      "10      ODI # 12      England        India  Winner2ndInning       Leeds   \n",
      "11      ODI # 13      England        India  Winner2ndInning    The Oval   \n",
      "12           NaN          NaN          NaN              NaN         NaN   \n",
      "13           NaN          NaN          NaN              NaN         NaN   \n",
      "14           NaN          NaN          NaN              NaN         NaN   \n",
      "15      ODI # 19      England        India  Winner1stInning      Lord's   \n",
      "16           NaN          NaN          NaN              NaN         NaN   \n",
      "17           NaN          NaN          NaN              NaN         NaN   \n",
      "18           NaN          NaN          NaN              NaN         NaN   \n",
      "19           NaN          NaN          NaN              NaN         NaN   \n",
      "20      ODI # 24  East Africa        India  Winner2ndInning       Leeds   \n",
      "21           NaN          NaN          NaN              NaN         NaN   \n",
      "22           NaN          NaN          NaN              NaN         NaN   \n",
      "23           NaN          NaN          NaN              NaN         NaN   \n",
      "24      ODI # 28        India  New Zealand  Winner2ndInning  Manchester   \n",
      "25           NaN          NaN          NaN              NaN         NaN   \n",
      "26           NaN          NaN          NaN              NaN         NaN   \n",
      "27           NaN          NaN          NaN              NaN         NaN   \n",
      "28           NaN          NaN          NaN              NaN         NaN   \n",
      "29           NaN          NaN          NaN              NaN         NaN   \n",
      "...          ...          ...          ...              ...         ...   \n",
      "7464  ODI # 3905        India    Sri Lanka  Winner2ndInning    Dambulla   \n",
      "7465  ODI # 3906        India    Sri Lanka  Winner2ndInning   Pallekele   \n",
      "7466  ODI # 3907        India    Sri Lanka  Winner2ndInning   Pallekele   \n",
      "7467  ODI # 3908        India    Sri Lanka  Winner1stInning     Colombo   \n",
      "7468  ODI # 3909        India    Sri Lanka  Winner2ndInning     Colombo   \n",
      "7469  ODI # 3910    Australia        India  Winner1stInning     Chennai   \n",
      "7470         NaN          NaN          NaN              NaN         NaN   \n",
      "7471  ODI # 3912    Australia        India  Winner1stInning     Kolkata   \n",
      "7472  ODI # 3914    Australia        India  Winner2ndInning      Indore   \n",
      "7473         NaN          NaN          NaN              NaN         NaN   \n",
      "7474         NaN          NaN          NaN              NaN         NaN   \n",
      "7475  ODI # 3917    Australia        India  Winner1stInning   Bengaluru   \n",
      "7476         NaN          NaN          NaN              NaN         NaN   \n",
      "7477  ODI # 3919    Australia        India  Winner2ndInning      Nagpur   \n",
      "7478         NaN          NaN          NaN              NaN         NaN   \n",
      "7479         NaN          NaN          NaN              NaN         NaN   \n",
      "7480         NaN          NaN          NaN              NaN         NaN   \n",
      "7481         NaN          NaN          NaN              NaN         NaN   \n",
      "7482         NaN          NaN          NaN              NaN         NaN   \n",
      "7483         NaN          NaN          NaN              NaN         NaN   \n",
      "7484         NaN          NaN          NaN              NaN         NaN   \n",
      "7485         NaN          NaN          NaN              NaN         NaN   \n",
      "7486  ODI # 3928  New Zealand        India  Winner2ndInning      Mumbai   \n",
      "7487         NaN          NaN          NaN              NaN         NaN   \n",
      "7488         NaN          NaN          NaN              NaN         NaN   \n",
      "7489  ODI # 3931  New Zealand        India  Winner2ndInning        Pune   \n",
      "7490  ODI # 3932  New Zealand        India  Winner1stInning      Kanpur   \n",
      "7491         NaN          NaN          NaN              NaN         NaN   \n",
      "7492         NaN          NaN          NaN              NaN         NaN   \n",
      "7493         NaN          NaN          NaN              NaN         NaN   \n",
      "\n",
      "           Match Date       Winner Host_Country Venue_Team1 Venue_Team2  \\\n",
      "0                 NaN          NaN          NaN         NaN         NaN   \n",
      "1                 NaN          NaN          NaN         NaN         NaN   \n",
      "2                 NaN          NaN          NaN         NaN         NaN   \n",
      "3                 NaN          NaN          NaN         NaN         NaN   \n",
      "4                 NaN          NaN          NaN         NaN         NaN   \n",
      "5                 NaN          NaN          NaN         NaN         NaN   \n",
      "6                 NaN          NaN          NaN         NaN         NaN   \n",
      "7                 NaN          NaN          NaN         NaN         NaN   \n",
      "8                 NaN          NaN          NaN         NaN         NaN   \n",
      "9                 NaN          NaN          NaN         NaN         NaN   \n",
      "10       Jul 13, 1974      England      England        Home        Away   \n",
      "11    Jul 15-16, 1974      England      England        Home        Away   \n",
      "12                NaN          NaN          NaN         NaN         NaN   \n",
      "13                NaN          NaN          NaN         NaN         NaN   \n",
      "14                NaN          NaN          NaN         NaN         NaN   \n",
      "15        Jun 7, 1975      England      England        Home        Away   \n",
      "16                NaN          NaN          NaN         NaN         NaN   \n",
      "17                NaN          NaN          NaN         NaN         NaN   \n",
      "18                NaN          NaN          NaN         NaN         NaN   \n",
      "19                NaN          NaN          NaN         NaN         NaN   \n",
      "20       Jun 11, 1975        India      England     Neutral     Neutral   \n",
      "21                NaN          NaN          NaN         NaN         NaN   \n",
      "22                NaN          NaN          NaN         NaN         NaN   \n",
      "23                NaN          NaN          NaN         NaN         NaN   \n",
      "24       Jun 14, 1975  New Zealand      England     Neutral     Neutral   \n",
      "25                NaN          NaN          NaN         NaN         NaN   \n",
      "26                NaN          NaN          NaN         NaN         NaN   \n",
      "27                NaN          NaN          NaN         NaN         NaN   \n",
      "28                NaN          NaN          NaN         NaN         NaN   \n",
      "29                NaN          NaN          NaN         NaN         NaN   \n",
      "...               ...          ...          ...         ...         ...   \n",
      "7464     Aug 20, 2017        India    Sri Lanka        Away        Home   \n",
      "7465     Aug 24, 2017        India          NaN     Neutral     Neutral   \n",
      "7466     Aug 27, 2017        India          NaN     Neutral     Neutral   \n",
      "7467     Aug 31, 2017        India    Sri Lanka        Away        Home   \n",
      "7468      Sep 3, 2017        India    Sri Lanka        Away        Home   \n",
      "7469     Sep 17, 2017        India        India        Away        Home   \n",
      "7470              NaN          NaN          NaN         NaN         NaN   \n",
      "7471     Sep 21, 2017        India        India        Away        Home   \n",
      "7472     Sep 24, 2017        India        India        Away        Home   \n",
      "7473              NaN          NaN          NaN         NaN         NaN   \n",
      "7474              NaN          NaN          NaN         NaN         NaN   \n",
      "7475     Sep 28, 2017    Australia        India        Away        Home   \n",
      "7476              NaN          NaN          NaN         NaN         NaN   \n",
      "7477      Oct 1, 2017        India        India        Away        Home   \n",
      "7478              NaN          NaN          NaN         NaN         NaN   \n",
      "7479              NaN          NaN          NaN         NaN         NaN   \n",
      "7480              NaN          NaN          NaN         NaN         NaN   \n",
      "7481              NaN          NaN          NaN         NaN         NaN   \n",
      "7482              NaN          NaN          NaN         NaN         NaN   \n",
      "7483              NaN          NaN          NaN         NaN         NaN   \n",
      "7484              NaN          NaN          NaN         NaN         NaN   \n",
      "7485              NaN          NaN          NaN         NaN         NaN   \n",
      "7486     Oct 22, 2017  New Zealand        India        Away        Home   \n",
      "7487              NaN          NaN          NaN         NaN         NaN   \n",
      "7488              NaN          NaN          NaN         NaN         NaN   \n",
      "7489     Oct 25, 2017        India        India        Away        Home   \n",
      "7490     Oct 29, 2017        India        India        Away        Home   \n",
      "7491              NaN          NaN          NaN         NaN         NaN   \n",
      "7492              NaN          NaN          NaN         NaN         NaN   \n",
      "7493              NaN          NaN          NaN         NaN         NaN   \n",
      "\n",
      "     Innings_Team1 Innings_Team2  \n",
      "0              NaN           NaN  \n",
      "1              NaN           NaN  \n",
      "2              NaN           NaN  \n",
      "3              NaN           NaN  \n",
      "4              NaN           NaN  \n",
      "5              NaN           NaN  \n",
      "6              NaN           NaN  \n",
      "7              NaN           NaN  \n",
      "8              NaN           NaN  \n",
      "9              NaN           NaN  \n",
      "10          Second         First  \n",
      "11          Second         First  \n",
      "12             NaN           NaN  \n",
      "13             NaN           NaN  \n",
      "14             NaN           NaN  \n",
      "15           First        Second  \n",
      "16             NaN           NaN  \n",
      "17             NaN           NaN  \n",
      "18             NaN           NaN  \n",
      "19             NaN           NaN  \n",
      "20           First        Second  \n",
      "21             NaN           NaN  \n",
      "22             NaN           NaN  \n",
      "23             NaN           NaN  \n",
      "24           First        Second  \n",
      "25             NaN           NaN  \n",
      "26             NaN           NaN  \n",
      "27             NaN           NaN  \n",
      "28             NaN           NaN  \n",
      "29             NaN           NaN  \n",
      "...            ...           ...  \n",
      "7464        Second         First  \n",
      "7465        Second         First  \n",
      "7466        Second         First  \n",
      "7467         First        Second  \n",
      "7468        Second         First  \n",
      "7469        Second         First  \n",
      "7470           NaN           NaN  \n",
      "7471        Second         First  \n",
      "7472         First        Second  \n",
      "7473           NaN           NaN  \n",
      "7474           NaN           NaN  \n",
      "7475         First        Second  \n",
      "7476           NaN           NaN  \n",
      "7477         First        Second  \n",
      "7478           NaN           NaN  \n",
      "7479           NaN           NaN  \n",
      "7480           NaN           NaN  \n",
      "7481           NaN           NaN  \n",
      "7482           NaN           NaN  \n",
      "7483           NaN           NaN  \n",
      "7484           NaN           NaN  \n",
      "7485           NaN           NaN  \n",
      "7486        Second         First  \n",
      "7487           NaN           NaN  \n",
      "7488           NaN           NaN  \n",
      "7489         First        Second  \n",
      "7490        Second         First  \n",
      "7491           NaN           NaN  \n",
      "7492           NaN           NaN  \n",
      "7493           NaN           NaN  \n",
      "\n",
      "[7494 rows x 12 columns]\n"
     ]
    }
   ],
   "source": [
    "India_df = df.where((df.Team1==\"India\") |(df.Team2==\"India\"))\n",
    "print(India_df)"
   ]
  },
  {
   "cell_type": "markdown",
   "metadata": {},
   "source": [
    "# What is India’s total Win percentage?"
   ]
  },
  {
   "cell_type": "code",
   "execution_count": 8,
   "metadata": {},
   "outputs": [
    {
     "name": "stdout",
     "output_type": "stream",
     "text": [
      "Win Percentage :  53.97727272727273\n"
     ]
    }
   ],
   "source": [
    "#Total number of matches played by India\n",
    "India_team1_df=India_df.where(India_df.Team1==\"India\")\n",
    "India_team1_df.count()\n",
    "\n",
    "#Total number of matches won by India\n",
    "India_Winner_df=India_team1_df.where(India_df.Winner==\"India\")\n",
    "India_Winner_df.count()\n",
    "\n",
    "India_Win_PCT = (India_Winner_df.Team1.count()/India_team1_df.Team1.count())*100\n",
    "print(\"Win Percentage : \",India_Win_PCT)"
   ]
  },
  {
   "cell_type": "markdown",
   "metadata": {},
   "source": [
    "# What is India’s total Loss percentage?"
   ]
  },
  {
   "cell_type": "code",
   "execution_count": 9,
   "metadata": {},
   "outputs": [
    {
     "name": "stdout",
     "output_type": "stream",
     "text": [
      "Loss Percentage :  46.02272727272727\n"
     ]
    }
   ],
   "source": [
    "#Total number of matches played by India\n",
    "India_team1_df=India_df.where(India_df.Team1==\"India\")\n",
    "India_team1_df.count()\n",
    "\n",
    "#Total number of matches Lost by India\n",
    "India_Loss_df=India_team1_df.where(India_df.Winner!=\"India\")\n",
    "India_Loss_df.count()\n",
    "\n",
    "India_Loss_PCT = (India_Loss_df.Team1.count()/India_team1_df.Team1.count())*100\n",
    "print(\"Loss Percentage : \",India_Loss_PCT)"
   ]
  },
  {
   "cell_type": "markdown",
   "metadata": {},
   "source": [
    "# Pie Plot"
   ]
  },
  {
   "cell_type": "code",
   "execution_count": 10,
   "metadata": {},
   "outputs": [
    {
     "data": {
      "image/png": "[encoded data removed]",
      "text/plain": [
       "<Figure size 360x360 with 1 Axes>"
      ]
     },
     "metadata": {},
     "output_type": "display_data"
    }
   ],
   "source": [
    "pie_df = pd.DataFrame({'India Win/Loss Percentage in ODI\\'s':[India_Win_PCT,India_Loss_PCT]},index=['Win','Loss'])\n",
    "pie_df\n",
    "plot = pie_df.plot.pie(y='India Win/Loss Percentage in ODI\\'s', figsize=(5, 5))"
   ]
  },
  {
   "cell_type": "markdown",
   "metadata": {},
   "source": [
    "# Total number of matches Played by India Away from home"
   ]
  },
  {
   "cell_type": "code",
   "execution_count": 11,
   "metadata": {},
   "outputs": [
    {
     "data": {
      "text/plain": [
       "Scorecard        295\n",
       "Team1            295\n",
       "Team2            295\n",
       "Margin           295\n",
       "Ground           295\n",
       "Match Date       295\n",
       "Winner           295\n",
       "Host_Country     295\n",
       "Venue_Team1      295\n",
       "Venue_Team2      295\n",
       "Innings_Team1    295\n",
       "Innings_Team2    295\n",
       "dtype: int64"
      ]
     },
     "execution_count": 11,
     "metadata": {},
     "output_type": "execute_result"
    }
   ],
   "source": [
    "\n",
    "India_team1_away_df=India_team1_df.where(India_team1_df.Venue_Team1=='Away')\n",
    "India_team1_away_df.count()\n"
   ]
  },
  {
   "cell_type": "markdown",
   "metadata": {},
   "source": [
    "# Total number of matches WON by India Away from home "
   ]
  },
  {
   "cell_type": "code",
   "execution_count": 12,
   "metadata": {},
   "outputs": [
    {
     "data": {
      "text/plain": [
       "Scorecard        295\n",
       "Team1            295\n",
       "Team2            295\n",
       "Margin           295\n",
       "Ground           295\n",
       "Match Date       295\n",
       "Winner           295\n",
       "Host_Country     295\n",
       "Venue_Team1      295\n",
       "Venue_Team2      295\n",
       "Innings_Team1    295\n",
       "Innings_Team2    295\n",
       "dtype: int64"
      ]
     },
     "execution_count": 12,
     "metadata": {},
     "output_type": "execute_result"
    }
   ],
   "source": [
    "\n",
    "\n",
    "India_team1_won_away_df=India_team1_df.where((India_df.Winner==\"India\") & (India_team1_df.Venue_Team1=='Away'))\n",
    "India_team1_away_df.count()"
   ]
  },
  {
   "cell_type": "markdown",
   "metadata": {},
   "source": [
    "# Total number of matches LOST by India Away from home"
   ]
  },
  {
   "cell_type": "code",
   "execution_count": 13,
   "metadata": {},
   "outputs": [
    {
     "data": {
      "text/plain": [
       "Scorecard        163\n",
       "Team1            163\n",
       "Team2            163\n",
       "Margin           163\n",
       "Ground           163\n",
       "Match Date       163\n",
       "Winner           163\n",
       "Host_Country     163\n",
       "Venue_Team1      163\n",
       "Venue_Team2      163\n",
       "Innings_Team1    163\n",
       "Innings_Team2    163\n",
       "dtype: int64"
      ]
     },
     "execution_count": 13,
     "metadata": {},
     "output_type": "execute_result"
    }
   ],
   "source": [
    "India_team1_lost_away_df=India_team1_df.where((India_df.Winner!=\"India\") & (India_team1_df.Venue_Team1=='Away'))\n",
    "India_team1_lost_away_df.count()"
   ]
  },
  {
   "cell_type": "markdown",
   "metadata": {},
   "source": [
    "# India Win Percentage Away in ODI's"
   ]
  },
  {
   "cell_type": "code",
   "execution_count": 14,
   "metadata": {},
   "outputs": [
    {
     "name": "stdout",
     "output_type": "stream",
     "text": [
      "India Win Percentage Away in ODI's' 44.74576271186441\n"
     ]
    }
   ],
   "source": [
    "India_Win_Away_PCT = (India_team1_won_away_df.Team1.count()/India_team1_away_df.Team1.count())*100\n",
    "print(\"India Win Percentage Away in ODI\\'s'\",India_Win_Away_PCT)"
   ]
  },
  {
   "cell_type": "markdown",
   "metadata": {},
   "source": [
    "# India Loss Percentage Away in ODI's"
   ]
  },
  {
   "cell_type": "code",
   "execution_count": 15,
   "metadata": {},
   "outputs": [
    {
     "name": "stdout",
     "output_type": "stream",
     "text": [
      "India Loss Percentage Away in ODI's' 55.254237288135585\n"
     ]
    }
   ],
   "source": [
    "India_Loss_Away_PCT = (India_team1_lost_away_df.Team1.count()/India_team1_away_df.Team1.count())*100\n",
    "print(\"India Loss Percentage Away in ODI\\'s'\",India_Loss_Away_PCT)"
   ]
  },
  {
   "cell_type": "code",
   "execution_count": 16,
   "metadata": {},
   "outputs": [
    {
     "data": {
      "image/png": "[encoded data removed]",
      "text/plain": [
       "<Figure size 648x360 with 1 Axes>"
      ]
     },
     "metadata": {},
     "output_type": "display_data"
    }
   ],
   "source": [
    "df = pd.DataFrame({'India Win/Loss Percentage Away in ODI\\'s':[India_Win_Away_PCT,India_Loss_Away_PCT]},index=['Won Away','Lost Away'])\n",
    "plot = df.plot.pie(y='India Win/Loss Percentage Away in ODI\\'s', figsize=(9, 5))\n",
    "\n"
   ]
  },
  {
   "cell_type": "markdown",
   "metadata": {},
   "source": [
    "# Total ODI's teams have played against India"
   ]
  },
  {
   "cell_type": "code",
   "execution_count": 41,
   "metadata": {},
   "outputs": [
    {
     "data": {
      "text/plain": [
       "Sri Lanka       142\n",
       "Pakistan        123\n",
       "Australia       118\n",
       "West Indies     117\n",
       "New Zealand      95\n",
       "England          91\n",
       "South Africa     74\n",
       "Zimbabwe         61\n",
       "Bangladesh       32\n",
       "Kenya            13\n",
       "U.A.E.            3\n",
       "Ireland           3\n",
       "Netherlands       2\n",
       "Scotland          1\n",
       "Namibia           1\n",
       "Afghanistan       1\n",
       "Bermuda           1\n",
       "Hong Kong         1\n",
       "East Africa       1\n",
       "Name: Team2, dtype: int64"
      ]
     },
     "execution_count": 41,
     "metadata": {},
     "output_type": "execute_result"
    }
   ],
   "source": [
    "df1=India_df.where(India_df.Team1==\"India\")\n",
    "df1.Team2.value_counts()"
   ]
  }
 ],
 "metadata": {
  "kernelspec": {
   "display_name": "Python 3",
   "language": "python",
   "name": "python3"
  },
  "language_info": {
   "codemirror_mode": {
    "name": "ipython",
    "version": 3
   },
   "file_extension": ".py",
   "mimetype": "text/x-python",
   "name": "python",
   "nbconvert_exporter": "python",
   "pygments_lexer": "ipython3",
   "version": "3.7.0"
  }
 },
 "nbformat": 4,
 "nbformat_minor": 2
}
